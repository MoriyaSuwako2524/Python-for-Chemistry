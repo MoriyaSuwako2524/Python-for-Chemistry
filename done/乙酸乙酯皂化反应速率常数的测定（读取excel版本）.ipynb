{
 "cells": [
  {
   "cell_type": "markdown",
   "source": [
    "# <center>实验十二 乙酸乙酯皁化反应速率常数的测定"
   ],
   "metadata": {
    "collapsed": false
   }
  },
  {
   "cell_type": "markdown",
   "source": [
    "# 一、目的要求\n",
    "\n",
    "1. 利用电导法测定乙酸乙酯皁化反应的速率常数, 并验证其为二级反应。\n",
    "\n",
    "2. 掌握测定电解质溶液电导和电导率的方法。"
   ],
   "metadata": {
    "collapsed": false
   }
  },
  {
   "cell_type": "markdown",
   "source": [
    "# 二、实验原理\n",
    "\n",
    "### 1. 基本原理\n",
    "\n",
    "乙酸乙酯皀化反应如下所示:\n",
    "\n",
    "$$\n",
    "\\mathrm{CH}_{3} \\mathrm{COOC}_{2} \\mathrm{H}_{5}+\\mathrm{NaOH} \\rightarrow \\mathrm{CH}_{3} \\mathrm{COONa}+\\mathrm{C}_{2} \\mathrm{H}_{5} \\mathrm{OH}\n",
    "$$\n",
    "\n",
    "已知此反应为二级反应, 若二反应物初始浓度相等, 则速率方程为:\n",
    "\n",
    "$$\n",
    "-\\frac{\\mathrm{d} c}{\\mathrm{~d} t}=k c^{2}\n",
    "$$\n",
    "\n",
    "$c$ 为 $\\mathrm{NaOH}$ 或 $\\mathrm{CH}_{3} \\mathrm{COOC}_{2} \\mathrm{H}_{5}$ 浓度, 积分即得 $c_{t} \\sim t$ 关系:\n",
    "\n",
    "即\n",
    "\n",
    "$$\n",
    "\\begin{aligned}\n",
    "& \\frac{1}{c_{t}}-\\frac{1}{c_{0}}=k t \\\\\n",
    "& \\frac{c_{0}}{c_{t}}-1=c_{0} k t\n",
    "\\end{aligned}\n",
    "$$\n",
    "\n",
    "实验中, $\\mathrm{CH}_{3} \\mathrm{COOC}_{2} \\mathrm{H}_{5}$ 和 $\\mathrm{C}_{2} \\mathrm{H}_{5} \\mathrm{OH}$ 对溶液电导的贡献可以忽略, 对溶液的电导有贡 献的就只有 $\\mathrm{CH}_{3} \\mathrm{COONa}$ 和 $\\mathrm{NaOH}$ 。反应过程中, $\\mathrm{Na}^{+}$的浓度始终保持不变, 它与体系电 导的变化无关。随着水解反应的进行, $\\mathrm{OH}^{-}$被消耗而 $\\mathrm{CH}_{3} \\mathrm{COO}^{-}$逐渐增多, $\\mathrm{OH}^{-}$的导电能 力远远大于 $\\mathrm{CH}_{3} \\mathrm{COO}^{-}$的导电能力, 所以体系的电导会随着反应的进行而逐渐降低。因此 可以用测定溶液的电导随时间的变化来测量该反应的速率常数。\n",
    "\n",
    "对于电解质溶液, 由 $G=\\kappa \\cdot \\frac{A}{l}$ 及 $\\Lambda_{\\mathrm{m}}=\\frac{\\kappa}{c}$ 可得\n",
    "\n",
    "$$\n",
    "G=\\frac{A}{l} \\cdot \\Lambda_{\\mathrm{m}} \\cdot c\n",
    "$$\n",
    "\n",
    "对强电解质的稀溶液, $\\Lambda_{\\mathrm{m}}=\\Lambda_{\\mathrm{m}}^{\\infty} 1-\\beta \\sqrt{c}$ ，当溶液浓度足够小时, $\\Lambda_{\\mathrm{m}} \\approx \\Lambda_{\\mathrm{m}}^{\\infty}$, 所以\n",
    "\n",
    "$$\n",
    "G=\\frac{A}{l} \\cdot \\Lambda_{\\mathrm{m}}^{\\infty} \\cdot c=K \\cdot c\n",
    "$$\n",
    "\n",
    "即电解质溶液的浓度很低时, 溶液的电导与电解质的浓度成正比。对于总体系\n",
    "\n",
    "$$\n",
    "G=G_{\\mathrm{NaOH}}+G_{\\mathrm{NaAc}}\n",
    "$$\n",
    "\n",
    "$G_{0}$ 为 $t=0$ 时溶液的电导, $G_{t}$ 为反应 $t$ 时间混合溶液的电导, $G_{\\infty}$ 为反应进行完全时溶 液的电导, 即\n",
    "\n",
    "$$\n",
    "\\begin{gathered}\n",
    "G_{t}=K_{\\mathrm{NaOH}} \\cdot c_{t}+K_{\\mathrm{NaAc}}\\left(c_{0}-c_{t}\\right) \\\\\n",
    "G_{0}=K_{\\mathrm{NaOH}} c_{0} \\\\\n",
    "G_{\\infty}=K_{\\mathrm{NaAc}} c_{0}\n",
    "\\end{gathered}\n",
    "$$\n",
    "\n",
    "联立式 (12-3)、(12-4) 和 (12-5) 得\n",
    "\n",
    "$$\n",
    "\\frac{c_{0}}{c_{t}}=\\frac{\\left(G_{0}-G_{\\infty}\\right)}{\\left(G_{t}-G_{\\infty}\\right)}\n",
    "$$\n",
    "\n",
    "将（12-6）式代入 (12-1) 式得: 重排, 得\n",
    "\n",
    "$$\n",
    "\\frac{\\left(G_{0}-G_{\\infty}\\right)}{\\left(G_{t}-G_{\\infty}\\right)}-1=c_{0} k t\n",
    "$$\n",
    "\n",
    "$$\n",
    "G_{t}=\\frac{1}{c_{0} k} \\cdot \\frac{G_{0}-G_{t}}{t}+G_{\\infty}\n",
    "$$\n",
    "\n",
    "因为 $G=\\kappa \\cdot \\frac{A}{l}$, 故上式可变形为\n",
    "\n",
    "$$\n",
    "\\kappa_{t}=\\frac{1}{c_{0} k} \\cdot \\frac{\\kappa_{0}-\\kappa_{t}}{t}+\\kappa_{\\infty}\n",
    "$$\n",
    "\n",
    "$\\kappa_{t}$ 对 $\\frac{\\kappa_{0}-\\kappa_{t}}{t}$ 作图得一条直线, 斜率为 $\\frac{1}{c_{0} k}$, 截距为 $\\kappa_{\\infty}$ 。由斜率和 $c_{0}$ 的数值计算可得 $k_{\\text {。 }}$ 本实验利用电导率仪直接测定溶液的电阻率, 利用 (12-9) 得出反应速率常数 $k$ 。\n",
    "\n",
    "### 2. 电导率 $\\kappa$ 的测量原理\n",
    "\n",
    "电导率仪的测量原理基于电导率和电导、电导池常数的关系式 $G=\\kappa \\cdot \\frac{A}{l}$ : 在电导池 的电极间施加稳定的交流电信号, 测量电极间溶液电导, 根据输入的电导池常数得到电 导率。 $\\mathrm{K}_{\\text {cell }}=l / \\mathrm{A}, \\mathrm{A}$-测量电极的有效极板面积; $l$-两极板的电极间距离。\n",
    "\n",
    "存在均匀电场的情况下,电极常数可以通过几何尺寸算出。当两个面积为 $1 \\mathrm{~cm}^{2}$ 的方 形极板, 之间相隔 $1 \\mathrm{~cm}$ 组成电极时, 此电极的常数 $\\mathrm{K}_{\\text {cell }}=1 \\mathrm{~cm}^{-1}$ 。如果用此对电极测得 电导值 $\\mathrm{G}=1000 \\mu \\mathrm{S}$, 则被测溶液的电导率 $\\kappa=1000 \\mu \\mathrm{S} / \\mathrm{cm}$ 。\n",
    "\n",
    "一般情况下, 电极常形成部分非均匀电场。此时, 电极常数必须用标准溶液进行确 定。标准溶液一般都使用 $\\mathrm{KCl}$ 溶液。这是因为 $\\mathrm{KCl}$ 的电导率在不同的温度和浓度情况下 非常稳定、准确。\n",
    "\n",
    "电导率测量中最早采用的是惠斯通电桥法, 它直接测量到的是电导值。DDS-307A 电导率仪测定电导的原理是将两块平行的极板, 放到被测溶液中, 在极板的两端加上一 定的电势 (为了避免溶液电解, 通常为正弦波电压, 频率 $1 \\sim 3 \\mathrm{kHz}$ ), 然后测量极板间流 过的电流, 根据欧姆定律计算得到电导。具体方法是通过由振荡器产生的交流电压加在 电极上 (加交流电压的目的是为了避免引起电极的极化), 电导池内产生电流, 此电流与 被测溶液的电导率成正比, 经电流-电压变换、放大、检波, 变换为直流电压, 通过温度 补偿等, 最后经 $\\mathrm{A} / \\mathrm{D}$ 转换器转换成数字信号, 通过微电脑显示。整个过程均由微电脑控 制和处理。\n",
    "\n",
    "引起离子在被测溶液中运动的电场是由与溶液直接接触的二个电极产生的。此对测 量电极必须由抗化学腐蚀的材料如铂、钊等制成。由二个电极组成的测量电极被称为柯 尔劳施（Kohlrausch）电极。"
   ],
   "metadata": {
    "collapsed": false
   }
  },
  {
   "cell_type": "markdown",
   "source": [
    "# 三、仪器药品\n",
    "\n",
    "恒温水浴一套; 电导池一套; DDSJ-307A 电导率仪一台, DJS-1C 型电导电极（铂 黑), T-818-B-6 型温度电极, 秒表一个; $25 \\mathrm{~mL}$ 移液管两根; $150 \\mathrm{~mL}$ 碘量瓶两个, 万用 电表一只 (公用)。\n",
    "\n",
    "$0.0200 \\mathrm{~mol} / \\mathrm{L} \\mathrm{CH}_{3} \\mathrm{COOC}_{2} \\mathrm{H}_{5}$ 溶液; $0.0200 \\mathrm{~mol} / \\mathrm{L}$ 和 $0.0100 \\mathrm{~mol} / \\mathrm{L}$ 的 $\\mathrm{NaOH}$ 溶液（都不 能含 $\\left.\\mathrm{Na}_{2} \\mathrm{CO}_{3}\\right)$, 所用的溶液要新配的。"
   ],
   "metadata": {
    "collapsed": false
   }
  },
  {
   "cell_type": "markdown",
   "source": [
    "# 四、实验内容\n",
    "\n",
    "1. 调节恒温水浴到 $25^{\\circ} \\mathrm{C}$ 。\n",
    "\n",
    "2. 用移液管移取 $25 \\mathrm{~mL}$ 浓度为 $0.0200 \\mathrm{~mol} / \\mathrm{L} \\mathrm{CH}_{3} \\mathrm{COOC}_{2} \\mathrm{H}_{5}$ 溶液于一个干燥洁净的碘 量瓶, 移取等浓度 $\\mathrm{NaOH}$ 溶液 $25 \\mathrm{~mL}$ 于第二个干燥洁净的碘量瓶中。将二瓶盖上盖子, 置于恒温水浴中。\n",
    "\n",
    "3. 用 $0.01 \\mathrm{~mol} / \\mathrm{L}$ 标准 $\\mathrm{KCl}$ 溶液标定电导率仪的电导池常数。\n",
    "\n",
    "4. 测量反应初始时刻的电阻 $\\kappa_{0}$ 。取 $0.0100 \\mathrm{~mol} / \\mathrm{L} \\mathrm{NaOH}$ 溶液淋洗电导池数次。然后 装入 $0.0100 \\mathrm{~mol} / \\mathrm{L} \\mathrm{NaOH}$ 溶液, 恒温 $10 \\mathrm{~min}$ 后测定其电导率。注意选择合适的测量范围 使，测定完毕后电导池用蒸馏水淋洗干净。\n",
    "\n",
    "5. 将恒温水浴中的两瓶溶液取出, 擦干瓶的外部, 并迅速将 $\\mathrm{NaOH}$ 溶液倾入 $\\mathrm{CH}_{3} \\mathrm{COOC}_{2} \\mathrm{H}_{5}$ 溶液中, 立即按下秒表开始记时, 此时为反应起点。然后将溶液全部倒回 原瓶混合均匀, 迅速将电导池用反应液淋洗 3 次, 装入反应液, 揷入电导电极, 立刻置 于恒温水浴中。5min 后记录电导率读数, 同时准确记录反应时间 $t$。\n",
    "\n",
    "从反应起始时刻起大约每隔 $5 \\mathrm{~min} 、 5 \\mathrm{~min} 5 \\mathrm{~min} 、 5 \\mathrm{~min} 、 10 \\mathrm{~min} 、 10 \\mathrm{~min} 、 10 \\mathrm{~min}, 20 \\mathrm{~min}$, 测定 $t$ 和 $\\kappa_{t}$ 。\n",
    "\n",
    "实验结束后, 洗净仪器, 将碘量瓶放入烘箱中干燥, 电导池中加上蒸馏水浸泡待用。\n"
   ],
   "metadata": {
    "collapsed": false
   }
  },
  {
   "cell_type": "markdown",
   "source": [
    "# 五、数据记录与处理"
   ],
   "metadata": {
    "collapsed": false
   }
  },
  {
   "cell_type": "markdown",
   "source": [
    "首先运行下面代码，将在jupyter默认目录中生成一个名为data的excel表格"
   ],
   "metadata": {
    "collapsed": false
   }
  },
  {
   "cell_type": "code",
   "execution_count": null,
   "outputs": [],
   "source": [
    "import xlsxwriter\n",
    "workbook = xlsxwriter.Workbook(\"data.xlsx\")\n",
    "worksheet = workbook.add_worksheet()\n",
    "\n",
    "worksheet.write('A1','kt')\n",
    "worksheet.write('B1','t')\n",
    "\n",
    "workbook.close()"
   ],
   "metadata": {
    "collapsed": false
   }
  },
  {
   "cell_type": "markdown",
   "source": [
    "![image-3.png](attachment:image-3.png)\n",
    "### <center>在表格中填入实验所记录的数据并保存\n",
    "### <center>然后通过下方的\n",
    "![image-2.png](attachment:image-2.png)\n",
    "### <center>上传data.xlsx"
   ],
   "metadata": {
    "collapsed": false
   }
  },
  {
   "cell_type": "code",
   "execution_count": 2,
   "outputs": [
    {
     "data": {
      "text/plain": "FileUpload(value=(), description='Upload')",
      "application/vnd.jupyter.widget-view+json": {
       "version_major": 2,
       "version_minor": 0,
       "model_id": "3f8adc1dba7a4517add0151215c11cc7"
      }
     },
     "metadata": {},
     "output_type": "display_data"
    }
   ],
   "source": [
    "import ipywidgets as widgets\n",
    "uploader = widgets.FileUpload()\n",
    "display(uploader)"
   ],
   "metadata": {
    "collapsed": false
   }
  },
  {
   "cell_type": "code",
   "execution_count": null,
   "outputs": [],
   "source": [
    "import io\n",
    "import pandas as pd\n",
    "import numpy as np\n",
    "import matplotlib.pyplot as plt\n",
    "from scipy import optimize as op\n",
    "uploaded_file = uploader.value[0]\n",
    "df1 = pd.read_excel(io.BytesIO(uploaded_file.content))\n",
    "kt = df1.values[:,0] #读取第一列\n",
    "t = df1.values[:,1]  #读取第二列\n",
    "k0 = 2079    #反应前的电导率\n",
    "a = 0.00927    #初始浓度\n",
    "y = kt    #kt对(k0-kt)/t作图\n",
    "x = (k0-kt)/t    #kt对(k0-kt)/t作图\n",
    "x_group = x    #需要拟合的数据组\n",
    "y_group = kt\n",
    "def f_1(x, A, B):    #需要拟合的函数\n",
    "    return A * x + B\n",
    "A, B = op.curve_fit(f_1, x_group, y_group)[0]    #得到的返回的A,B的值\n",
    "# 返回值\n",
    "# popt: 数组，参数的最佳值，以使拟合值与真实值的平方残差之和最小。\n",
    "# pcov: 二维阵列，popt的估计协方差。对角线提供参数估计的方差。\n",
    "\n",
    "# popt1, pcov1 = curve_fit(f_1, x_group, y_group)\n",
    "# A = popt1[0]\n",
    "# B = popt1[1]\n",
    "\n",
    "plt.scatter(x_group, y_group, marker='o', label='real')    #画出原始数据点\n",
    "x = np.arange(20, 70, 1)    #产生横轴数据\n",
    "\n",
    "# arrange函数用于创建一个在定义的起始值和结束值之间具有特定序列的数组\n",
    "# 如下例\n",
    "# np.arange(10, 35, 3)\n",
    "# array([10, 13, 16, 19, 22, 25, 28, 31, 34])\n",
    "\n",
    "y = A * x + B\n",
    "plt.plot(x, y, color='red', label='curve_fit')    #绘制拟合图\n",
    "plt.legend()    #标记的位置 默认根据图形自动匹配适合的位置\n",
    "plt.title('拟合图')    #图标的名称\n",
    "plt.xlabel(\"(k0-kt)/t\")    #横坐标名称\n",
    "plt.ylabel(\"kt\")    #纵坐标名称\n",
    "plt.rcParams['font.sans-serif'] = ['SimHei']    #使中文正常显示\n",
    "plt.show()\n",
    "k = 1/(a*A)\n",
    "print(\"A=\",A)\n",
    "print(\"k=\",k)"
   ],
   "metadata": {
    "collapsed": false
   }
  }
 ],
 "metadata": {
  "kernelspec": {
   "display_name": "Python 3",
   "language": "python",
   "name": "python3"
  },
  "language_info": {
   "codemirror_mode": {
    "name": "ipython",
    "version": 2
   },
   "file_extension": ".py",
   "mimetype": "text/x-python",
   "name": "python",
   "nbconvert_exporter": "python",
   "pygments_lexer": "ipython2",
   "version": "2.7.6"
  }
 },
 "nbformat": 4,
 "nbformat_minor": 0
}
