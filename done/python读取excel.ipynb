{
 "cells": [
  {
   "cell_type": "markdown",
   "source": [
    "# 一、读取Excel文件"
   ],
   "metadata": {
    "collapsed": false
   }
  },
  {
   "cell_type": "markdown",
   "source": [
    "### 使用pandas的read_excel()方法，可通过文件路径直接读取。\n",
    "### 一次读取一个sheet（返回DataFrame类型）"
   ],
   "metadata": {
    "collapsed": false
   }
  },
  {
   "cell_type": "code",
   "execution_count": null,
   "outputs": [],
   "source": [
    "#不指定sheet参数，默认读取第一个sheet\n",
    "df=pd.read_excel(\"data_test.xlsx\")\n",
    "#指定sheet名称读取\n",
    "df=pd.read_excel(\"data_test.xlsx\",sheet_name=\"test1\")\n",
    "#指定sheet索引号读取\n",
    "df=pd.read_excel(\"data_test.xlsx\",sheet_name=0) #sheet索引号从0开始"
   ],
   "metadata": {
    "collapsed": false
   }
  },
  {
   "cell_type": "markdown",
   "source": [
    "### 一次读取多个sheet"
   ],
   "metadata": {
    "collapsed": false
   }
  },
  {
   "cell_type": "code",
   "execution_count": null,
   "outputs": [],
   "source": [
    "#指定多个sheet名称读取\n",
    "df=pd.read_excel(\"data_test.xlsx\",sheet_name=[\"test1\",\"test2\"])\n",
    "#指定多个sheet索引号读取\n",
    "df=pd.read_excel(\"data_test.xlsx\",sheet_name=[0,1])\n",
    "#混合指定sheet名称和sheet索引号读取\n",
    "df=pd.read_excel(\"data_test.xlsx\",sheet_name=[0,\"test2\"])"
   ],
   "metadata": {
    "collapsed": false
   }
  },
  {
   "cell_type": "markdown",
   "source": [
    "# 二、DataFrame对象的结构"
   ],
   "metadata": {
    "collapsed": false
   }
  },
  {
   "cell_type": "markdown",
   "source": [
    "（读取分为有表头和无表头两种情况，默认有表头）"
   ],
   "metadata": {
    "collapsed": false
   }
  },
  {
   "cell_type": "markdown",
   "source": [
    "# 三、用Value方式获取数据"
   ],
   "metadata": {
    "collapsed": false
   }
  },
  {
   "cell_type": "markdown",
   "source": [
    "## 1.基本方法\n",
    "### (1) df.values\n",
    "### 获取全部数据，返回类型为ndarray（二维）\n",
    "### (2) df.index.values\n",
    "### 获取行索引向量，返回类型为ndarray（一维）\n",
    "### (3) df.columns.values\n",
    "### 获取列索引向量（对有表头的方式，是表头标签向量），返回类型为ndarray（一维）\n"
   ],
   "metadata": {
    "collapsed": false
   }
  },
  {
   "cell_type": "code",
   "execution_count": null,
   "outputs": [],
   "source": [
    "import pandas as pd\n",
    "df = pd.read_excel(\"f.xlsx\")\n",
    "\n",
    "print(\"\\n(1)全部数据：\")\n",
    "print(df.values)\n",
    "\n",
    "print(\"\\n(2)第2行第3列的值：\")\n",
    "print(df.values[1,2])\n",
    "\n",
    "print(\"\\n(3)第3行数据：\")\n",
    "print(df.values[2])\n",
    "\n",
    "print(\"\\n(4)获取第2、3行数据：\")\n",
    "print(df.values[[1,2]])\n",
    "\n",
    "print(\"\\n(5)第2列数据：\")\n",
    "print(df.values[:,1])\n",
    "\n",
    "print(\"\\n(6)第2、3列数据：\")\n",
    "print(df.values[:,[1,2]])\n",
    "\n",
    "print(\"\\n(7)第2至4行、第3至5列数据：\")\n",
    "print(df.values[1:4,2:5])"
   ],
   "metadata": {
    "collapsed": false
   }
  },
  {
   "cell_type": "markdown",
   "source": [
    "# 四、与项目结合"
   ],
   "metadata": {
    "collapsed": false
   }
  },
  {
   "cell_type": "code",
   "execution_count": null,
   "outputs": [],
   "source": [],
   "metadata": {
    "collapsed": false
   }
  }
 ],
 "metadata": {
  "kernelspec": {
   "display_name": "Python 3",
   "language": "python",
   "name": "python3"
  },
  "language_info": {
   "codemirror_mode": {
    "name": "ipython",
    "version": 2
   },
   "file_extension": ".py",
   "mimetype": "text/x-python",
   "name": "python",
   "nbconvert_exporter": "python",
   "pygments_lexer": "ipython2",
   "version": "2.7.6"
  }
 },
 "nbformat": 4,
 "nbformat_minor": 0
}
