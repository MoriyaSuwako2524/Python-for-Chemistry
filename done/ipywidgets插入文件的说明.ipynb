{
 "cells": [
  {
   "cell_type": "markdown",
   "source": [
    "### 首先创建一个文件导入的窗口并命名为uploader"
   ],
   "metadata": {
    "collapsed": false
   }
  },
  {
   "cell_type": "code",
   "execution_count": 1,
   "outputs": [
    {
     "data": {
      "text/plain": "FileUpload(value=(), description='Upload')",
      "application/vnd.jupyter.widget-view+json": {
       "version_major": 2,
       "version_minor": 0,
       "model_id": "9ffea08e8132497a8d37e26f0761115b"
      }
     },
     "metadata": {},
     "output_type": "display_data"
    }
   ],
   "source": [
    "import ipywidgets as widgets\n",
    "uploader = widgets.FileUpload()\n",
    "display(uploader)"
   ],
   "metadata": {
    "collapsed": false
   }
  },
  {
   "cell_type": "markdown",
   "source": [
    "### uploader可以接受任何类型的文件\n",
    "### 利用.value访问文件属性\n",
    "### 返回值是一个元组\n",
    "### 下面展示这个元组："
   ],
   "metadata": {
    "collapsed": false
   }
  },
  {
   "cell_type": "code",
   "execution_count": 2,
   "outputs": [
    {
     "data": {
      "text/plain": "()"
     },
     "execution_count": 2,
     "metadata": {},
     "output_type": "execute_result"
    }
   ],
   "source": [
    "uploader.value"
   ],
   "metadata": {
    "collapsed": false
   }
  },
  {
   "cell_type": "markdown",
   "source": [
    "### 取元组的第一项，并命名为uploaded_file"
   ],
   "metadata": {
    "collapsed": false
   }
  },
  {
   "cell_type": "code",
   "execution_count": null,
   "outputs": [],
   "source": [
    "uploaded_file = uploader.value[0]"
   ],
   "metadata": {
    "collapsed": false
   }
  },
  {
   "cell_type": "code",
   "execution_count": null,
   "outputs": [],
   "source": [
    "uploaded_file"
   ],
   "metadata": {
    "collapsed": false
   }
  },
  {
   "cell_type": "markdown",
   "source": [
    "### 可以利用下面两种方法来访问文件\n",
    "### 包含五项信息 name type size content last_modified"
   ],
   "metadata": {
    "collapsed": false
   }
  },
  {
   "cell_type": "code",
   "execution_count": null,
   "outputs": [],
   "source": [
    "uploaded_file.content"
   ],
   "metadata": {
    "collapsed": false
   }
  },
  {
   "cell_type": "code",
   "execution_count": null,
   "outputs": [],
   "source": [
    "uploaded_file['content']"
   ],
   "metadata": {
    "collapsed": false
   }
  },
  {
   "cell_type": "markdown",
   "source": [
    "### 下面将其与乙酸乙酯皂化反应速率实例结合"
   ],
   "metadata": {
    "collapsed": false
   }
  },
  {
   "cell_type": "code",
   "execution_count": null,
   "outputs": [],
   "source": [
    "uploader"
   ],
   "metadata": {
    "collapsed": false
   }
  },
  {
   "cell_type": "code",
   "execution_count": null,
   "outputs": [],
   "source": [
    "import io\n",
    "import pandas as pd"
   ],
   "metadata": {
    "collapsed": false
   }
  },
  {
   "cell_type": "code",
   "execution_count": null,
   "outputs": [],
   "source": [
    "df1 = pd.read_excel(io.BytesIO(uploaded_file.content))\n",
    "kt = df1.values[:,0] #读取第一列\n",
    "t = df1.values[:,1]  #读取第二列"
   ],
   "metadata": {
    "collapsed": false
   }
  },
  {
   "cell_type": "code",
   "execution_count": null,
   "outputs": [],
   "source": [
    "import numpy as np\n",
    "import matplotlib.pyplot as plt\n",
    "from scipy import optimize as op\n",
    "k0 = 2079    #反应前的电导率\n",
    "a = 0.00927    #初始浓度"
   ],
   "metadata": {
    "collapsed": false
   }
  },
  {
   "cell_type": "code",
   "execution_count": null,
   "outputs": [],
   "source": [
    "y = kt    #kt对(k0-kt)/t作图\n",
    "x = (k0-kt)/t    #kt对(k0-kt)/t作图\n",
    "x_group = x    #需要拟合的数据组\n",
    "y_group = kt"
   ],
   "metadata": {
    "collapsed": false
   }
  },
  {
   "cell_type": "code",
   "execution_count": null,
   "outputs": [],
   "source": [
    "def f_1(x, A, B):    #需要拟合的函数\n",
    "    return A * x + B\n",
    "A, B = op.curve_fit(f_1, x_group, y_group)[0]    #得到的返回的A,B的值\n",
    "# 返回值\n",
    "# popt: 数组，参数的最佳值，以使拟合值与真实值的平方残差之和最小。\n",
    "# pcov: 二维阵列，popt的估计协方差。对角线提供参数估计的方差。\n",
    "\n",
    "# popt1, pcov1 = curve_fit(f_1, x_group, y_group)\n",
    "# A = popt1[0]\n",
    "# B = popt1[1]\n",
    "\n",
    "plt.scatter(x_group, y_group, marker='o', label='real')    #画出原始数据点\n",
    "x = np.arange(20, 70, 1)    #产生横轴数据\n",
    "\n",
    "# arrange函数用于创建一个在定义的起始值和结束值之间具有特定序列的数组\n",
    "# 如下例\n",
    "# np.arange(10, 35, 3)\n",
    "# array([10, 13, 16, 19, 22, 25, 28, 31, 34])\n",
    "\n",
    "y = A * x + B\n",
    "plt.plot(x, y, color='red', label='curve_fit')    #绘制拟合图\n",
    "plt.legend()    #标记的位置 默认根据图形自动匹配适合的位置\n",
    "plt.title('拟合图')    #图标的名称\n",
    "plt.xlabel(\"(k0-kt)/t\")    #横坐标名称\n",
    "plt.ylabel(\"kt\")    #纵坐标名称\n",
    "plt.rcParams['font.sans-serif'] = ['SimHei']    #使中文正常显示\n",
    "plt.show()\n",
    "k = 1/(a*A)\n",
    "print(\"A=\",A)\n",
    "print(\"k=\",k)"
   ],
   "metadata": {
    "collapsed": false
   }
  }
 ],
 "metadata": {
  "kernelspec": {
   "display_name": "Python 3",
   "language": "python",
   "name": "python3"
  },
  "language_info": {
   "codemirror_mode": {
    "name": "ipython",
    "version": 2
   },
   "file_extension": ".py",
   "mimetype": "text/x-python",
   "name": "python",
   "nbconvert_exporter": "python",
   "pygments_lexer": "ipython2",
   "version": "2.7.6"
  }
 },
 "nbformat": 4,
 "nbformat_minor": 0
}
