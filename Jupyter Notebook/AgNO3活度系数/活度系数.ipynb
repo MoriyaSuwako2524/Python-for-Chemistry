{
 "cells": [
  {
   "cell_type": "code",
   "execution_count": null,
   "metadata": {
    "collapsed": true,
    "pycharm": {
     "is_executing": true
    }
   },
   "outputs": [],
   "source": [
    "本notebook将用于计算AgBrO3在纯水和KBrO3溶液中的溶解度，将活性考虑在内。首先，导入依赖关系："
   ]
  },
  {
   "cell_type": "code",
   "execution_count": null,
   "outputs": [],
   "source": [
    "import numpy as np\n",
    "import sympy\n",
    "import matplotlib.pyplot as plt\n",
    "import scipy.optimize as opt"
   ],
   "metadata": {
    "collapsed": false,
    "pycharm": {
     "is_executing": true
    }
   }
  },
  {
   "cell_type": "code",
   "execution_count": null,
   "outputs": [],
   "source": [
    "在做实际的事情之前，我们先建立一些常数。如AgBrO3的摩尔质量，活度积，γ为平均离子活度系数，s为溶解度,m为离子浓度"
   ],
   "metadata": {
    "collapsed": false,
    "pycharm": {
     "is_executing": true
    }
   }
  },
  {
   "cell_type": "code",
   "execution_count": null,
   "outputs": [],
   "source": [
    "M=235.8E-3\n",
    "Sb_Kap=5.77E-5\n",
    "Ag_charge=1\n",
    "K_charge=1\n",
    "BrO3_charge=-1"
   ],
   "metadata": {
    "collapsed": false,
    "pycharm": {
     "is_executing": true
    }
   }
  },
  {
   "cell_type": "code",
   "execution_count": null,
   "outputs": [],
   "source": [
    "在纯水中，离子强度很小，γ近似等于1。计算AgBrO3（s）在纯水中的溶解度。"
   ],
   "metadata": {
    "collapsed": false,
    "pycharm": {
     "is_executing": true
    }
   }
  },
  {
   "cell_type": "code",
   "execution_count": null,
   "outputs": [],
   "source": [
    "γ=1\n",
    "m1=pow(Sb_Kap/(γ**2),0.5)\n",
    "s=m1*M\n",
    "print(s)"
   ],
   "metadata": {
    "collapsed": false,
    "pycharm": {
     "is_executing": true
    }
   }
  },
  {
   "cell_type": "code",
   "execution_count": null,
   "outputs": [],
   "source": [
    "引入了离子活度系数后，我们需要使用Debye-Hückel方程。下面是定义为函数的Debye-Hückel方程。"
   ],
   "metadata": {
    "collapsed": false,
    "pycharm": {
     "is_executing": true
    }
   }
  },
  {
   "cell_type": "code",
   "execution_count": null,
   "outputs": [],
   "source": [
    "def debye_huck(mu, charge):\n",
    "    return (-(0.5115 * charge**2 * np.sqrt(mu))/(1 + np.sqrt(mu)))"
   ],
   "metadata": {
    "collapsed": false,
    "pycharm": {
     "is_executing": true
    }
   }
  },
  {
   "cell_type": "code",
   "execution_count": null,
   "outputs": [],
   "source": [
    "试根据Debye-Hückel极限公式求AgBrO3在0.01mol/kg的KBrO3溶液中的溶解度。令最终生成的Ag离子浓度为k,定义离子强度的方程,求得离子强度的表达式。利用活度积公式，求得离子活度系数的表达式，取对数。"
   ],
   "metadata": {
    "collapsed": false,
    "pycharm": {
     "is_executing": true
    }
   }
  },
  {
   "cell_type": "code",
   "execution_count": null,
   "outputs": [],
   "source": [
    "m2=0.01\n",
    "def mu(cAg,cBrO3,cK):\n",
    "    return (cAg*Ag_charge**2+cBrO3*BrO3_charge**2+cK*K_charge**2)*0.5\n",
    "def debye_huck(mu, charge):\n",
    "    return (-(0.5115 * charge**2 * np.sqrt(mu))/(1 + np.sqrt(mu)))\n",
    "u=debye_huck(0.01+k,1)\n",
    "def lgr(cAg,cBrO3):\n",
    "    return (np.log10(Sb_Kap)-np.log10(cAg*cBrO3))*0.5\n",
    "v=(lgr(k,0.01+k))                       #函数好像没办法传入未知数变量\n",
    "k=sympy.Symbol('k')\n",
    "print(sympy.solve(u-v,k))\n",
    "\n",
    "import sympy as sym\n",
    "from sympy import solve\n",
    "import math\n",
    "(x, y) = sym.symbols('x y')\n",
    "equations = [pow(5.77E-3/(x*(x+0.01)),0.5)-10**(-0.5115*pow(y,0.5)/(1+pow(y,0.5))),0.01+x-y]\n",
    "unknowns = [x,y]\n",
    "solution = solve(equations, unknowns)\n",
    "print(solution)\n",
    "\n",
    "\n",
    "import numpy as np\n",
    "import scipy.optimize as opt\n",
    "initAg = 0\n",
    "initBrO3 = initK = 0.01\n",
    "initparams = (initAg, initBrO3, initK)\n",
    "def AgBrO3_sol(concentrations):\n",
    "    (Ag_conc,I_conc) = concentrations\n",
    "    firstEq =0.5*( np.log(5.77E-3)-np.log(Ag_conc)-np.log(Ag_conc+0.01))+0.5115*pow(I_conc,0.5)/(1+pow(I_conc,0.5))\n",
    "    secondEq = Ag_conc +0.01-I_conc\n",
    "    return[firstEq, secondEq]\n",
    "solution = opt.fsolve(AgBrO3_sol,initparams)\n",
    "solubility = \"{:.2E}\".format(solution[0])\n",
    "print(\"At a KBrO3 concentration of\", initK, \"AgBrO3 solubility is\", solubility)\n",
    "\n",
    "\n",
    "\n",
    "from scipy.optimize import fsolve\n",
    "import sympy\n",
    "def solve_function(unsolved_value):\n",
    "    x,y=unsolved_value[0],unsolved_value[1]\n",
    "    x=sympy.Symbol('x')\n",
    "    y=sympy.Symbol('y')\n",
    "    return [\n",
    "       pow(5.77E-3/(x*(x+0.01)),0.5)-10**(-0.5115*pow(y,0.5)/(1+pow(y,0.5))),\n",
    "        0.01+x-y\n",
    "    ]\n",
    "\n",
    "solved=fsolve(solve_function,[0,0.01])\n",
    "print(solved)\n",
    "\n",
    "\n",
    "print(\"Program done!\")"
   ],
   "metadata": {
    "collapsed": false
   }
  }
 ],
 "metadata": {
  "kernelspec": {
   "display_name": "Python 3",
   "language": "python",
   "name": "python3"
  },
  "language_info": {
   "codemirror_mode": {
    "name": "ipython",
    "version": 2
   },
   "file_extension": ".py",
   "mimetype": "text/x-python",
   "name": "python",
   "nbconvert_exporter": "python",
   "pygments_lexer": "ipython2",
   "version": "2.7.6"
  }
 },
 "nbformat": 4,
 "nbformat_minor": 0
}
