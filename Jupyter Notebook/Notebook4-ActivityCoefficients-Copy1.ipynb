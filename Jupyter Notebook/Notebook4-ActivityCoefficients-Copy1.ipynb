{
 "cells": [
  {
   "cell_type": "markdown",
   "metadata": {},
   "source": [
    "This notebook will be used to calculate the solubility of mercury (I) chloride in solutions of potassium nitrate, taking activities into account. First things, import dependencies:\n",
    "\n",
    "本notebook将用于计算氯化亚汞在硝酸钾溶液中的溶解度，将活性考虑在内。首先，导入依赖关系："
   ]
  },
  {
   "cell_type": "code",
   "execution_count": 1,
   "metadata": {
    "collapsed": true
   },
   "outputs": [],
   "source": [
    "import numpy as np\n",
    "import matplotlib.pyplot as plt\n",
    "import scipy.optimize as opt"
   ]
  },
  {
   "cell_type": "markdown",
   "metadata": {},
   "source": [
    "For this notebook, we are going to find the solubility of mercury (I) chloride in potassium nitrate at varying ionic strengths. The reaction we are interested in is:\n",
    "\n",
    "对于这个，我们要找出不同离子强度下氯化亚汞在硝酸钾中的溶解度。我们感兴趣的反应是：\n",
    "Hg2Cl2(𝑠)→Hg2+2(𝑎𝑞)+2Cl−(𝑎𝑞)    K𝑠𝑝=1.3x10−18    （作为仍有一个成单电子的Hg+离子，它不稳定，也不能独立存在。它总是要通过共价键，相互间二聚，而成 Hg22+ 离子。）\n",
    "\n",
    "$$\\textrm{Hg}_{2}\\textrm{Cl}_{2(s)} \\rightarrow \\textrm{Hg}^{2+}_{2(aq)} + 2 \\textrm{Cl}^{-}_{(aq)} \\qquad \\textrm{K}_{sp} = 1.3 \\textrm{x} 10^{-18}$$\n",
    "\n",
    "Before we do anything real, let's set up some constants. We need to know the $\\textrm{K}_{sp}$, hydrated radii of the $\\textrm{Hg}^{2+}_{2(aq)}$ and $\\textrm{Cl}^{-}_{(aq)}$ ions, and the charge of the ions.\n",
    "\n",
    "在做实际的事情之前，我们先建立一些常数。我们需要知道Ksp,亚汞离子和氯离子的水合半径，以及离子的电荷。"
   ]
  },
  {
   "cell_type": "code",
   "execution_count": 2,
   "metadata": {
    "collapsed": true
   },
   "outputs": [],
   "source": [
    "calomel_Ksp = 1.3E-18\n",
    "Hg2_rad = 0.5\n",
    "Hg2_charge = 2\n",
    "Cl_rad = 0.3\n",
    "Cl_charge = -1"
   ]
  },
  {
   "cell_type": "markdown",
   "metadata": {},
   "source": [
    "As a quick check, to have a feel for what order of magnitude we should expect for $\\textrm{Hg}_{2}\\textrm{Cl}_{2(s)}$ solubility, on a piece of paper calculate the solubility of $\\textrm{Hg}_{2}\\textrm{Cl}_{2(s)}$ in pure water. What is the solubility you calculated?\n",
    "\n",
    "简单检查一下，为了感受一下Hg2cl2(s)的溶解度应该达到什么数量级，在一张纸上计算Hg2cl2(s)在纯水中的溶解度。你计算出的溶解度是多少？\n",
    "\n",
    "To calculate the activity coefficients for the $\\textrm{Hg}^{2+}_{2(aq)}$ and $\\textrm{Cl}^{-}_{(aq)}$ ions, we need to use the Debye-H&uuml;ckel equation. Here's the Debye-H&uuml;ckel equation defined as a function.\n",
    "\n",
    "为了计算出亚汞离子和氯离子的活度系数，我们需要使用Debye-Hückel方程。下面是定义为函数的Debye-Hückel方程。"
   ]
  },
  {
   "cell_type": "code",
   "execution_count": 3,
   "metadata": {
    "collapsed": true
   },
   "outputs": [],
   "source": [
    "def debye_huck(mu, charge, radius):\n",
    "    return 10**(-(0.51 * charge**2 * np.sqrt(mu))/(1 + 3.3 * radius * np.sqrt(mu)))\n",
    "\n",
    "\n",
    "D-H方程：\n",
    "lgr=-A*Z^2*(I^0.5/(1+Ba*I^0.5)\n",
    "r 离子活度系数 A，B为常数，对298K的水溶液，A=0.51,B=3.3\n",
    "Z 离子电价\n",
    "a 离子水合半径"
   ]
  },
  {
   "cell_type": "markdown",
   "metadata": {},
   "source": [
    "Now that we've got the Debye-H&uuml;ckel equation as a function, we can calculate the activity coefficient for the $\\textrm{Hg}^{2+}_{2(aq)}$ and $\\textrm{Cl}^{-}_{(aq)}$ ions. So, let's calculate the activity coefficients for the $\\textrm{Hg}^{2+}_{2(aq)}$ and $\\textrm{Cl}^{-}_{(aq)}$ ions and use those to calculate the $\\textrm{K}^{'}_{sp}$ for the solubility reaction, above, then use this to calculate the solubility of $\\textrm{Hg}_{2}\\textrm{Cl}_{2(s)}$ in 0.001 potassium nitrate.\n",
    "\n",
    "现在我们已经得到了Debye-Hückel方程作为函数，我们可以计算亚汞离子和氯离子的活度系数。因此，让我们计算亚汞离子和氯离子的活度系数，并使用这些系数来计算上述溶解反应的Ksp，然后使用这些系数来计算Hg2cl2在0.001（离子强度）硝酸钾中的溶解度。"
   ]
  },
  {
   "cell_type": "code",
   "execution_count": 7,
   "metadata": {},
   "outputs": [
    {
     "name": "stdout",
     "output_type": "stream",
     "text": [
      "The activity of the mercury (I) ion is 0.868, the activity of the chloride ion is 0.965, the Ksp' is 1.61E-18, and the solubility is 7.38E-07\n"
     ]
    }
   ],
   "source": [
    "Hg2_activity = debye_huck(0.001, Hg2_charge, Hg2_rad)\n",
    "Cl_activity = debye_huck(0.001, Cl_charge, Cl_rad)\n",
    "calomel_KspPrime = calomel_Ksp/(Hg2_activity * Cl_activity**2)\n",
    "solubility = (calomel_KspPrime/4)**(1.0/3)\n",
    "print(\"The activity of the mercury (I) ion is\", \"{:.3},\".format(Hg2_activity), \n",
    "      \"the activity of the chloride ion is\", \"{:.3},\".format(Cl_activity), \n",
    "      \"the Ksp' is\", \"{:.2E},\".format(calomel_KspPrime),\n",
    "      \"and the solubility is\",\"{:.2E}\".format(solubility))"
   ]
  },
  {
   "cell_type": "markdown",
   "metadata": {},
   "source": [
    "Using the Debye-H&uuml;ckel equation defined above and the Python you have learned so far, graph the solubility of $\\textrm{Hg}_{2}\\textrm{Cl}_{2(s)}$ in solutions of potassium nitrate  where [KNO$_{3}$] ranges from 0 to 0.1 M.\n",
    "\n",
    "使用上面定义的Debye-Hückel方程和你到目前为止学过的python，绘制Hg2cl2在硝酸钾溶液中的溶解度，其中硝酸钾范围为0到0.1M"
   ]
  },
  {
   "cell_type": "code",
   "execution_count": null,
   "metadata": {
    "collapsed": true
   },
   "outputs": [],
   "source": [
    "import numpy as np\n",
    "import matplotlib.pyplot as plt\n",
    "import scipy.optimize as opt\n",
    "calomel_Ksp = 1.3E-18\n",
    "Hg2_rad = 0.5\n",
    "Hg2_charge = 2\n",
    "Cl_rad = 0.3\n",
    "Cl_charge = -1\n",
    "def debye_huck(mu, charge, radius):\n",
    "    return 10**(-(0.51 * charge**2 * np.sqrt(mu))/(1 + 3.3 * radius * np.sqrt(mu)))\n",
    "for mu in np.arange(0,0.1,0.0001):\n",
    "    Hg2_activity = debye_huck(mu, Hg2_charge, Hg2_rad)\n",
    "    Cl_activity = debye_huck(mu, Cl_charge, Cl_rad)\n",
    "    calomel_KspPrime = calomel_Ksp/(Hg2_activity * Cl_activity**2)\n",
    "    solubility = (calomel_KspPrime/4)**(1.0/3)\n",
    "    plt.scatter(mu,\n",
    "           solubility)\n",
    "    plt.xlabel('mu')\n",
    "    plt.ylabel('solubility')\n",
    "ax.set_xlim(0,0.1)\n",
    "x_values=list(np.arange(0.01))\n",
    "ax = plt.gca()\n",
    "plt.show()"
   ]
  }
 ],
 "metadata": {
  "kernelspec": {
   "display_name": "Python 3 (ipykernel)",
   "language": "python",
   "name": "python3"
  },
  "language_info": {
   "codemirror_mode": {
    "name": "ipython",
    "version": 3
   },
   "file_extension": ".py",
   "mimetype": "text/x-python",
   "name": "python",
   "nbconvert_exporter": "python",
   "pygments_lexer": "ipython3",
   "version": "3.8.7"
  }
 },
 "nbformat": 4,
 "nbformat_minor": 2
}
