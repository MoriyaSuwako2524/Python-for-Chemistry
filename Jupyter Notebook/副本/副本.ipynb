{
 "cells": [
  {
   "cell_type": "code",
   "execution_count": null,
   "metadata": {
    "collapsed": true,
    "pycharm": {
     "is_executing": true
    }
   },
   "outputs": [],
   "source": [
    "想模仿Notebook4里作图，但具体还没实现。"
   ]
  },
  {
   "cell_type": "code",
   "execution_count": null,
   "outputs": [],
   "source": [
    "import numpy as np\n",
    "import matplotlib.pyplot as plt\n",
    "import scipy.optimize as opt\n",
    "calomel_Ksp = 5.77E-5\n",
    "Ag_rad = 0.5\n",
    "Ag_charge = 1\n",
    "BrO3_rad = 0.3\n",
    "BrO3_charge = -1\n",
    "def debye_huck(mu, charge, radius):\n",
    "    return 10**(-(0.51 * charge**2 * np.sqrt(mu))/(1 + 3.3 * radius * np.sqrt(mu)))\n",
    "# D-H方程：\n",
    "# lgr=-A*Z^2*(I^0.5/(1+Ba*I^0.5)\n",
    "# r 离子活度系数 A，B为常数，对298K的水溶液，A=0.51,B=3.3\n",
    "# Z 离子电价\n",
    "# a 离子水合半径\n",
    "for mu in np.arange(0,0.1,0.0001):\n",
    "    Ag_activity = debye_huck(mu, Ag_charge, Ag_rad)\n",
    "    BrO3_activity = debye_huck(mu, BrO3_charge, BrO3_rad)\n",
    "    calomel_KspPrime = calomel_Ksp/(Ag_activity * BrO3_activity**2)\n",
    "    solubility = (calomel_KspPrime/4)**(1.0/3)\n",
    "    plt.scatter(mu,solubility)\n",
    "    plt.xlabel('KBrO3')\n",
    "    plt.ylabel('solubility')\n",
    "ax = plt.gca()\n",
    "ax.set_xlim(0,0.1)\n",
    "x_values=list(np.arange(0.01))\n",
    "plt.show()"
   ],
   "metadata": {
    "collapsed": false,
    "pycharm": {
     "is_executing": true
    }
   }
  },
  {
   "cell_type": "code",
   "execution_count": null,
   "outputs": [],
   "source": [
    "第一问，在纯水中的溶解度。"
   ],
   "metadata": {
    "collapsed": false,
    "pycharm": {
     "is_executing": true
    }
   }
  },
  {
   "cell_type": "code",
   "execution_count": null,
   "outputs": [],
   "source": [
    "import numpy as np\n",
    "import matplotlib.pyplot as plt\n",
    "import scipy.optimize as opt\n",
    "def quad_solve(a, b, c):\n",
    "    discrim = np.sqrt(b**2 - 4 * a * c)\n",
    "    sol1 = (-b + discrim)/(2 * a)\n",
    "    sol2 = (-b - discrim)/(2 * a)\n",
    "    return [sol1,sol2]\n",
    "\n",
    "solutions = quad_solve(1,0,-5.77E-5)\n",
    "corrsol=\"{:.2E}\".format(solutions[0]*235.8E-3)\n",
    "print(\"The solubility of AgBrO3 in pure water is\",corrsol)"
   ],
   "metadata": {
    "collapsed": false,
    "pycharm": {
     "is_executing": true
    }
   }
  },
  {
   "cell_type": "code",
   "execution_count": null,
   "outputs": [],
   "source": [
    "第二问"
   ],
   "metadata": {
    "collapsed": false,
    "pycharm": {
     "is_executing": true
    }
   }
  },
  {
   "cell_type": "code",
   "execution_count": null,
   "outputs": [],
   "source": [
    "def debye_huck(mu, charge, radius):                                                  #想和Notebook4中一样，用德拜-休克尔公式先求r\n",
    "    return 10**(-(0.51 * charge**2 * np.sqrt(mu))/(1 + 3.3 * radius * np.sqrt(mu)))\n",
    "solutions = quad_solve(1,0.01,-5.77E-5)\n",
    "corrsol=\"{:.2E}\".format(solutions[0])                                          #现在会的是解方程右边=0的方程，方程组的求解还不能解决\n",
    "\n",
    "print(\"At a KBrO3 concentration of\", initK, \"AgBrO3 solubility is\", solubility)"
   ],
   "metadata": {
    "collapsed": false
   }
  }
 ],
 "metadata": {
  "kernelspec": {
   "display_name": "Python 3",
   "language": "python",
   "name": "python3"
  },
  "language_info": {
   "codemirror_mode": {
    "name": "ipython",
    "version": 2
   },
   "file_extension": ".py",
   "mimetype": "text/x-python",
   "name": "python",
   "nbconvert_exporter": "python",
   "pygments_lexer": "ipython2",
   "version": "2.7.6"
  }
 },
 "nbformat": 4,
 "nbformat_minor": 0
}
