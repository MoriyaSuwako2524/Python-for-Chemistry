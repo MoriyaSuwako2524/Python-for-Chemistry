{
 "cells": [
  {
   "cell_type": "code",
   "execution_count": 1,
   "metadata": {
    "collapsed": true
   },
   "outputs": [
    {
     "name": "stderr",
     "output_type": "stream",
     "text": [
      "C:\\Users\\QK\\AppData\\Local\\Temp\\ipykernel_37388\\1120616579.py:19: DeprecationWarning: on_submit is deprecated. Instead, set the .continuous_update attribute to False and observe the value changing with: mywidget.observe(callback, 'value').\n",
      "  inp.on_submit(update_kt)\n"
     ]
    },
    {
     "data": {
      "text/plain": "Tab(children=(Text(value='', description='1'), Text(value='', description='2'), Text(value='', description='3'…",
      "application/vnd.jupyter.widget-view+json": {
       "version_major": 2,
       "version_minor": 0,
       "model_id": "e02b7296421e4b0287ab25fcd5d13eb5"
      }
     },
     "execution_count": 1,
     "metadata": {},
     "output_type": "execute_result"
    }
   ],
   "source": [
    "import ipywidgets as widgets\n",
    "import numpy as np\n",
    "\n",
    "# 创建 12 个文本框，并将其输入内容关联到对应的数组元素\n",
    "inputs1 = [widgets.Text(description=str(i)) for i in range(1, 13)]\n",
    "kt = np.zeros(12)\n",
    "\n",
    "def update_kt(sender):\n",
    "    # 将数组元素更新为对应文本框的值，如果文本框内容为空，则默认为 0\n",
    "    for i, inp in enumerate(inputs1):\n",
    "        try:\n",
    "            kt[i] = float(inp.value)\n",
    "        except ValueError:\n",
    "            kt[i] = 0\n",
    "    print(kt)\n",
    "\n",
    "# 将 update_kt 函数绑定到每个文本框的 on_submit 事件上\n",
    "for inp in inputs1:\n",
    "    inp.on_submit(update_kt)\n",
    "\n",
    "# 创建 Tab 控件，将 12 个文本框作为子控件，并设置标题为 \"1\" 到 \"12\"\n",
    "tab_kt = widgets.Tab(children=inputs1, titles=[str(i) for i in range(1, 13)])\n",
    "\n",
    "# 显示 Tab 控件\n",
    "tab_kt\n",
    "\n"
   ]
  },
  {
   "cell_type": "code",
   "execution_count": null,
   "outputs": [],
   "source": [
    "#### 创建 12 个文本框，并将其输入内容关联到对应的数组元素\n",
    "inputs2 = [widgets.Text(description=str(i)) for i in range(1, 13)]\n",
    "t = np.zeros(12)\n",
    "\n",
    "def update_t(sender):\n",
    "    # 将数组元素更新为对应文本框的值，如果文本框内容为空，则默认为 0\n",
    "    for i, inp in enumerate(inputs2):\n",
    "        try:\n",
    "            t[i] = float(inp.value)\n",
    "        except ValueError:\n",
    "            t[i] = 0\n",
    "    print(t)\n",
    "\n",
    "# 将 update_kt 函数绑定到每个文本框的 on_submit 事件上\n",
    "for inp in inputs2:\n",
    "    inp.on_submit(update_t)\n",
    "\n",
    "# 创建 Tab 控件，将 12 个文本框作为子控件，并设置标题为 \"1\" 到 \"12\"\n",
    "tab_t = widgets.Tab(children=inputs2, titles=[str(i) for i in range(1, 13)])\n",
    "\n",
    "# 显示 Tab 控件\n",
    "tab_t\n"
   ],
   "metadata": {
    "collapsed": false,
    "pycharm": {
     "is_executing": true
    }
   }
  },
  {
   "cell_type": "code",
   "execution_count": null,
   "outputs": [],
   "source": [
    "import matplotlib.pyplot as plt\n",
    "from scipy import optimize as op\n",
    "k0 = 2079    #反应前的电导率\n",
    "a = 0.00927    #初始浓度"
   ],
   "metadata": {
    "collapsed": false,
    "pycharm": {
     "is_executing": true
    }
   }
  },
  {
   "cell_type": "code",
   "execution_count": null,
   "outputs": [],
   "source": [
    "y = kt    #kt对(k0-kt)/t作图\n",
    "x = (k0-kt)/t    #kt对(k0-kt)/t作图\n",
    "x_group = x    #需要拟合的数据组\n",
    "y_group = kt"
   ],
   "metadata": {
    "collapsed": false,
    "pycharm": {
     "is_executing": true
    }
   }
  },
  {
   "cell_type": "code",
   "execution_count": null,
   "outputs": [],
   "source": [
    "def f_1(x, A, B):    #需要拟合的函数\n",
    "    return A * x + B\n",
    "A, B = op.curve_fit(f_1, x_group, y_group)[0]    #得到的返回的A,B的值\n",
    "# 返回值\n",
    "# popt: 数组，参数的最佳值，以使拟合值与真实值的平方残差之和最小。\n",
    "# pcov: 二维阵列，popt的估计协方差。对角线提供参数估计的方差。\n",
    "\n",
    "# popt1, pcov1 = curve_fit(f_1, x_group, y_group)\n",
    "# A = popt1[0]\n",
    "# B = popt1[1]"
   ],
   "metadata": {
    "collapsed": false,
    "pycharm": {
     "is_executing": true
    }
   }
  },
  {
   "cell_type": "code",
   "execution_count": null,
   "outputs": [],
   "source": [
    "plt.scatter(x_group, y_group, marker='o', label='real')    #画出原始数据点\n",
    "x = np.arange(20, 70, 1)    #产生横轴数据\n",
    "\n",
    "# arrange函数用于创建一个在定义的起始值和结束值之间具有特定序列的数组\n",
    "# 如下例\n",
    "# np.arange(10, 35, 3)\n",
    "# array([10, 13, 16, 19, 22, 25, 28, 31, 34])"
   ],
   "metadata": {
    "collapsed": false,
    "pycharm": {
     "is_executing": true
    }
   }
  },
  {
   "cell_type": "code",
   "execution_count": null,
   "outputs": [],
   "source": [
    "y = A * x + B\n",
    "plt.plot(x, y, color='red', label='curve_fit')    #绘制拟合图\n",
    "plt.legend()    #标记的位置 默认根据图形自动匹配适合的位置\n",
    "plt.title('拟合图')    #图标的名称\n",
    "plt.xlabel(\"(k0-kt)/t\")    #横坐标名称\n",
    "plt.ylabel(\"kt\")    #纵坐标名称\n",
    "plt.rcParams['font.sans-serif'] = ['SimHei']    #使中文正常显示\n",
    "plt.show()\n",
    "k = 1/(a*A)\n",
    "print(A)\n",
    "print(k)\n"
   ],
   "metadata": {
    "collapsed": false,
    "pycharm": {
     "is_executing": true
    }
   }
  },
  {
   "cell_type": "code",
   "execution_count": null,
   "outputs": [],
   "source": [],
   "metadata": {
    "collapsed": false
   }
  }
 ],
 "metadata": {
  "kernelspec": {
   "display_name": "Python 3",
   "language": "python",
   "name": "python3"
  },
  "language_info": {
   "codemirror_mode": {
    "name": "ipython",
    "version": 2
   },
   "file_extension": ".py",
   "mimetype": "text/x-python",
   "name": "python",
   "nbconvert_exporter": "python",
   "pygments_lexer": "ipython2",
   "version": "2.7.6"
  }
 },
 "nbformat": 4,
 "nbformat_minor": 0
}
