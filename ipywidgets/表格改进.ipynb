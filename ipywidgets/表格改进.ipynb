{
 "cells": [
  {
   "cell_type": "code",
   "execution_count": 11,
   "metadata": {
    "collapsed": true
   },
   "outputs": [],
   "source": [
    "import ipywidgets as widgets\n",
    "import numpy as np\n",
    "\n",
    "# 创建 12 个文本框，并将其输入内容关联到对应的数组元素\n",
    "inputs1 = [widgets.Text(description=str(i)) for i in range(1, 13)]\n",
    "kt = np.zeros(12)\n",
    "\n",
    "def update_kt(sender):\n",
    "    # 将数组元素更新为对应文本框的值，如果文本框内容为空，则默认为 0\n",
    "    for i, inp in enumerate(inputs1):\n",
    "        try:\n",
    "            kt[i] = float(inp.value)\n",
    "        except (ValueError, TypeError):\n",
    "            kt[i] = 0\n",
    "\n",
    "# 将 update_kt 函数绑定到每个文本框的 on_submit 事件上\n",
    "for inp in inputs1:\n",
    "    inp.observe(update_kt)\n",
    "\n",
    "# 创建 Tab 控件，将 12 个文本框作为子控件，并设置标题为 \"1\" 到 \"12\"\n",
    "tab_kt = widgets.Tab(children=inputs1, titles=[str(i) for i in range(1, 13)])"
   ]
  },
  {
   "cell_type": "code",
   "execution_count": 12,
   "outputs": [],
   "source": [
    "#### 创建 12 个文本框，并将其输入内容关联到对应的数组元素\n",
    "inputs2 = [widgets.Text(description=str(i)) for i in range(1, 13)]\n",
    "t = np.zeros(12)\n",
    "\n",
    "def update_t(sender):\n",
    "    # 将数组元素更新为对应文本框的值，如果文本框内容为空，则默认为 0\n",
    "    for i, inp in enumerate(inputs2):\n",
    "        try:\n",
    "            t[i] = float(inp.value)\n",
    "        except ValueError:\n",
    "            t[i] = 0\n",
    "\n",
    "# 将 update_kt 函数绑定到每个文本框的 on_submit 事件上\n",
    "for inp in inputs2:\n",
    "    inp.observe(update_t)\n",
    "\n",
    "# 创建 Tab 控件，将 12 个文本框作为子控件，并设置标题为 \"1\" 到 \"12\"\n",
    "tab_t = widgets.Tab(children=inputs2, titles=[str(i) for i in range(1, 13)])"
   ],
   "metadata": {
    "collapsed": false
   }
  },
  {
   "cell_type": "code",
   "execution_count": 13,
   "outputs": [
    {
     "data": {
      "text/plain": "Accordion(children=(Tab(children=(Text(value='', description='1'), Text(value='', description='2'), Text(value…",
      "application/vnd.jupyter.widget-view+json": {
       "version_major": 2,
       "version_minor": 0,
       "model_id": "3d3e921842f341c4ad9ddc91b42812a3"
      }
     },
     "execution_count": 13,
     "metadata": {},
     "output_type": "execute_result"
    }
   ],
   "source": [
    "'''选项卡和做好的表格相组合'''\n",
    "accordion1 = widgets.Accordion()\n",
    "accordion1.children = [tab_kt, tab_t]\n",
    "accordion1.titles = ('请输入kt的值', '请输入t的值')\n",
    "accordion1\n"
   ],
   "metadata": {
    "collapsed": false
   }
  },
  {
   "cell_type": "code",
   "execution_count": null,
   "outputs": [],
   "source": [
    "'''下拉选项和做好的表格的组合'''\n",
    "stack1 = widgets.Stack([tab_kt, tab_t], selected_index=0)\n",
    "stack1\n",
    "dropdown = widgets.Dropdown(options=['kt', 't'])\n",
    "widgets.jslink((dropdown, 'index'), (stack1, 'selected_index'))\n",
    "widgets.VBox([dropdown, stack1])\n"
   ],
   "metadata": {
    "collapsed": false,
    "pycharm": {
     "is_executing": true
    }
   }
  },
  {
   "cell_type": "code",
   "execution_count": 6,
   "outputs": [],
   "source": [
    "import matplotlib.pyplot as plt\n",
    "from scipy import optimize as op\n",
    "k0 = 2079    #反应前的电导率\n",
    "a = 0.00927    #初始浓度"
   ],
   "metadata": {
    "collapsed": false
   }
  },
  {
   "cell_type": "code",
   "execution_count": 7,
   "outputs": [
    {
     "name": "stderr",
     "output_type": "stream",
     "text": [
      "C:\\Users\\QK\\AppData\\Local\\Temp\\ipykernel_48220\\2262205485.py:2: RuntimeWarning: divide by zero encountered in true_divide\n",
      "  x = (k0-kt)/t    #kt对(k0-kt)/t作图\n"
     ]
    }
   ],
   "source": [
    "y = kt    #kt对(k0-kt)/t作图\n",
    "x = (k0-kt)/t    #kt对(k0-kt)/t作图\n",
    "x_group = x    #需要拟合的数据组\n",
    "y_group = kt"
   ],
   "metadata": {
    "collapsed": false
   }
  },
  {
   "cell_type": "code",
   "execution_count": 8,
   "outputs": [
    {
     "ename": "ValueError",
     "evalue": "array must not contain infs or NaNs",
     "output_type": "error",
     "traceback": [
      "\u001B[1;31m---------------------------------------------------------------------------\u001B[0m",
      "\u001B[1;31mValueError\u001B[0m                                Traceback (most recent call last)",
      "Input \u001B[1;32mIn [8]\u001B[0m, in \u001B[0;36m<cell line: 3>\u001B[1;34m()\u001B[0m\n\u001B[0;32m      1\u001B[0m \u001B[38;5;28;01mdef\u001B[39;00m \u001B[38;5;21mf_1\u001B[39m(x, A, B):    \u001B[38;5;66;03m#需要拟合的函数\u001B[39;00m\n\u001B[0;32m      2\u001B[0m     \u001B[38;5;28;01mreturn\u001B[39;00m A \u001B[38;5;241m*\u001B[39m x \u001B[38;5;241m+\u001B[39m B\n\u001B[1;32m----> 3\u001B[0m A, B \u001B[38;5;241m=\u001B[39m \u001B[43mop\u001B[49m\u001B[38;5;241;43m.\u001B[39;49m\u001B[43mcurve_fit\u001B[49m\u001B[43m(\u001B[49m\u001B[43mf_1\u001B[49m\u001B[43m,\u001B[49m\u001B[43m \u001B[49m\u001B[43mx_group\u001B[49m\u001B[43m,\u001B[49m\u001B[43m \u001B[49m\u001B[43my_group\u001B[49m\u001B[43m)\u001B[49m[\u001B[38;5;241m0\u001B[39m]\n",
      "File \u001B[1;32mD:\\anaconda32022.05\\lib\\site-packages\\scipy\\optimize\\minpack.py:743\u001B[0m, in \u001B[0;36mcurve_fit\u001B[1;34m(f, xdata, ydata, p0, sigma, absolute_sigma, check_finite, bounds, method, jac, **kwargs)\u001B[0m\n\u001B[0;32m    739\u001B[0m \u001B[38;5;28;01mif\u001B[39;00m \u001B[38;5;28misinstance\u001B[39m(xdata, (\u001B[38;5;28mlist\u001B[39m, \u001B[38;5;28mtuple\u001B[39m, np\u001B[38;5;241m.\u001B[39mndarray)):\n\u001B[0;32m    740\u001B[0m     \u001B[38;5;66;03m# `xdata` is passed straight to the user-defined `f`, so allow\u001B[39;00m\n\u001B[0;32m    741\u001B[0m     \u001B[38;5;66;03m# non-array_like `xdata`.\u001B[39;00m\n\u001B[0;32m    742\u001B[0m     \u001B[38;5;28;01mif\u001B[39;00m check_finite:\n\u001B[1;32m--> 743\u001B[0m         xdata \u001B[38;5;241m=\u001B[39m \u001B[43mnp\u001B[49m\u001B[38;5;241;43m.\u001B[39;49m\u001B[43masarray_chkfinite\u001B[49m\u001B[43m(\u001B[49m\u001B[43mxdata\u001B[49m\u001B[43m,\u001B[49m\u001B[43m \u001B[49m\u001B[38;5;28;43mfloat\u001B[39;49m\u001B[43m)\u001B[49m\n\u001B[0;32m    744\u001B[0m     \u001B[38;5;28;01melse\u001B[39;00m:\n\u001B[0;32m    745\u001B[0m         xdata \u001B[38;5;241m=\u001B[39m np\u001B[38;5;241m.\u001B[39masarray(xdata, \u001B[38;5;28mfloat\u001B[39m)\n",
      "File \u001B[1;32mD:\\anaconda32022.05\\lib\\site-packages\\numpy\\lib\\function_base.py:488\u001B[0m, in \u001B[0;36masarray_chkfinite\u001B[1;34m(a, dtype, order)\u001B[0m\n\u001B[0;32m    486\u001B[0m a \u001B[38;5;241m=\u001B[39m asarray(a, dtype\u001B[38;5;241m=\u001B[39mdtype, order\u001B[38;5;241m=\u001B[39morder)\n\u001B[0;32m    487\u001B[0m \u001B[38;5;28;01mif\u001B[39;00m a\u001B[38;5;241m.\u001B[39mdtype\u001B[38;5;241m.\u001B[39mchar \u001B[38;5;129;01min\u001B[39;00m typecodes[\u001B[38;5;124m'\u001B[39m\u001B[38;5;124mAllFloat\u001B[39m\u001B[38;5;124m'\u001B[39m] \u001B[38;5;129;01mand\u001B[39;00m \u001B[38;5;129;01mnot\u001B[39;00m np\u001B[38;5;241m.\u001B[39misfinite(a)\u001B[38;5;241m.\u001B[39mall():\n\u001B[1;32m--> 488\u001B[0m     \u001B[38;5;28;01mraise\u001B[39;00m \u001B[38;5;167;01mValueError\u001B[39;00m(\n\u001B[0;32m    489\u001B[0m         \u001B[38;5;124m\"\u001B[39m\u001B[38;5;124marray must not contain infs or NaNs\u001B[39m\u001B[38;5;124m\"\u001B[39m)\n\u001B[0;32m    490\u001B[0m \u001B[38;5;28;01mreturn\u001B[39;00m a\n",
      "\u001B[1;31mValueError\u001B[0m: array must not contain infs or NaNs"
     ]
    }
   ],
   "source": [
    "def f_1(x, A, B):    #需要拟合的函数\n",
    "    return A * x + B\n",
    "A, B = op.curve_fit(f_1, x_group, y_group)[0]    #得到的返回的A,B的值\n",
    "# 返回值\n",
    "# popt: 数组，参数的最佳值，以使拟合值与真实值的平方残差之和最小。\n",
    "# pcov: 二维阵列，popt的估计协方差。对角线提供参数估计的方差。\n",
    "\n",
    "# popt1, pcov1 = curve_fit(f_1, x_group, y_group)\n",
    "# A = popt1[0]\n",
    "# B = popt1[1]"
   ],
   "metadata": {
    "collapsed": false
   }
  },
  {
   "cell_type": "code",
   "execution_count": 9,
   "outputs": [
    {
     "data": {
      "text/plain": "<Figure size 432x288 with 1 Axes>",
      "image/png": "[encoded data removed]"
     },
     "metadata": {
      "needs_background": "light"
     },
     "output_type": "display_data"
    }
   ],
   "source": [
    "plt.scatter(x_group, y_group, marker='o', label='real')    #画出原始数据点\n",
    "x = np.arange(20, 70, 1)    #产生横轴数据\n",
    "\n",
    "# arrange函数用于创建一个在定义的起始值和结束值之间具有特定序列的数组\n",
    "# 如下例\n",
    "# np.arange(10, 35, 3)\n",
    "# array([10, 13, 16, 19, 22, 25, 28, 31, 34])"
   ],
   "metadata": {
    "collapsed": false
   }
  },
  {
   "cell_type": "code",
   "execution_count": 10,
   "outputs": [
    {
     "ename": "NameError",
     "evalue": "name 'A' is not defined",
     "output_type": "error",
     "traceback": [
      "\u001B[1;31m---------------------------------------------------------------------------\u001B[0m",
      "\u001B[1;31mNameError\u001B[0m                                 Traceback (most recent call last)",
      "Input \u001B[1;32mIn [10]\u001B[0m, in \u001B[0;36m<cell line: 1>\u001B[1;34m()\u001B[0m\n\u001B[1;32m----> 1\u001B[0m y \u001B[38;5;241m=\u001B[39m \u001B[43mA\u001B[49m \u001B[38;5;241m*\u001B[39m x \u001B[38;5;241m+\u001B[39m B\n\u001B[0;32m      2\u001B[0m plt\u001B[38;5;241m.\u001B[39mplot(x, y, color\u001B[38;5;241m=\u001B[39m\u001B[38;5;124m'\u001B[39m\u001B[38;5;124mred\u001B[39m\u001B[38;5;124m'\u001B[39m, label\u001B[38;5;241m=\u001B[39m\u001B[38;5;124m'\u001B[39m\u001B[38;5;124mcurve_fit\u001B[39m\u001B[38;5;124m'\u001B[39m)    \u001B[38;5;66;03m#绘制拟合图\u001B[39;00m\n\u001B[0;32m      3\u001B[0m plt\u001B[38;5;241m.\u001B[39mlegend()    \u001B[38;5;66;03m#标记的位置 默认根据图形自动匹配适合的位置\u001B[39;00m\n",
      "\u001B[1;31mNameError\u001B[0m: name 'A' is not defined"
     ]
    }
   ],
   "source": [
    "y = A * x + B\n",
    "plt.plot(x, y, color='red', label='curve_fit')    #绘制拟合图\n",
    "plt.legend()    #标记的位置 默认根据图形自动匹配适合的位置\n",
    "plt.title('拟合图')    #图标的名称\n",
    "plt.xlabel(\"(k0-kt)/t\")    #横坐标名称\n",
    "plt.ylabel(\"kt\")    #纵坐标名称\n",
    "plt.rcParams['font.sans-serif'] = ['SimHei']    #使中文正常显示\n",
    "plt.show()\n",
    "k = 1/(a*A)\n",
    "print(A)\n",
    "print(k)"
   ],
   "metadata": {
    "collapsed": false
   }
  },
  {
   "cell_type": "code",
   "execution_count": null,
   "outputs": [],
   "source": [],
   "metadata": {
    "collapsed": false
   }
  }
 ],
 "metadata": {
  "kernelspec": {
   "display_name": "Python 3",
   "language": "python",
   "name": "python3"
  },
  "language_info": {
   "codemirror_mode": {
    "name": "ipython",
    "version": 2
   },
   "file_extension": ".py",
   "mimetype": "text/x-python",
   "name": "python",
   "nbconvert_exporter": "python",
   "pygments_lexer": "ipython2",
   "version": "2.7.6"
  }
 },
 "nbformat": 4,
 "nbformat_minor": 0
}
